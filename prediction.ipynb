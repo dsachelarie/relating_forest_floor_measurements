{
 "cells": [
  {
   "cell_type": "code",
   "id": "initial_id",
   "metadata": {
    "collapsed": true,
    "ExecuteTime": {
     "end_time": "2025-01-30T08:39:16.908355Z",
     "start_time": "2025-01-30T08:39:16.901323Z"
    }
   },
   "source": [
    "import numpy as np\n",
    "import os.path\n",
    "import pandas as pd\n",
    "import torch\n",
    "import torch.nn as nn\n",
    "from sklearn.preprocessing import StandardScaler\n",
    "from sklearn.svm import SVC\n",
    "from sklearn.model_selection import train_test_split\n",
    "from sklearn.neural_network import MLPClassifier, MLPRegressor\n",
    "from sklearn.metrics import mean_squared_error, mean_absolute_error, accuracy_score, classification_report\n",
    "from models.mlp import MLP\n",
    "from torch.utils.data import Dataset, DataLoader"
   ],
   "outputs": [],
   "execution_count": 16
  },
  {
   "metadata": {},
   "cell_type": "markdown",
   "source": "Sklearn train and test loaders",
   "id": "250b66f22f4bda6"
  },
  {
   "metadata": {
    "ExecuteTime": {
     "end_time": "2025-01-30T09:39:09.671102Z",
     "start_time": "2025-01-30T09:39:09.652816Z"
    }
   },
   "cell_type": "code",
   "source": [
    "fractional_cover = pd.read_csv(\"datasets/fractional_cover.csv\")\n",
    "fractional_cover[\"tree_type\"] = fractional_cover[\"plot_ID\"].apply(lambda x: ''.join([char for char in x.split(\"_\")[1] if char.isalpha()]))\n",
    "\n",
    "X = pd.read_csv(\"datasets/1000_wavelength_10features_pca.csv\").to_numpy()\n",
    "y_intermediate_points = pd.read_csv(\"datasets/complete_fc.csv\")\n",
    "y_intermediate_points = y_intermediate_points[[\"vasc\", \"nonvasc\", \"lichen\", \"intactlitt\", \"decomplitt\"]].to_numpy() * 100\n",
    "y_plot_ids = fractional_cover[\"plot_ID\"].to_numpy().repeat(15)\n",
    "y_plot_ids = np.delete(y_plot_ids, np.where(y_plot_ids == \"HY_PINE5\")[0][0])\n",
    "y_tree_types = fractional_cover[\"tree_type\"].to_numpy().repeat(15)\n",
    "y_tree_types = np.delete(y_tree_types, np.where(y_tree_types == \"PINE\")[0][0])"
   ],
   "id": "c61faad172da2d13",
   "outputs": [],
   "execution_count": 38
  },
  {
   "metadata": {},
   "cell_type": "markdown",
   "source": "Predict using SVM.",
   "id": "a44f99e43be8570f"
  },
  {
   "metadata": {
    "ExecuteTime": {
     "end_time": "2025-01-30T09:39:11.633488Z",
     "start_time": "2025-01-30T09:39:11.550099Z"
    }
   },
   "cell_type": "code",
   "source": [
    "# SVM code here\n",
    "clf = SVC(kernel='linear')\n",
    "X_train, X_test, y_train, y_test = train_test_split(X, y_plot_ids, test_size=0.2, random_state=42)\n",
    "clf = clf.fit(X_train, y_train)\n",
    "y_pred = clf.predict(X_test)\n",
    "accuracy = accuracy_score(y_test, y_pred)\n",
    "print(f\"Accuracy: {accuracy:.4f}\")"
   ],
   "id": "4b2fe5adf5884cfb",
   "outputs": [
    {
     "name": "stdout",
     "output_type": "stream",
     "text": [
      "Accuracy: 0.6149\n"
     ]
    }
   ],
   "execution_count": 39
  },
  {
   "metadata": {
    "ExecuteTime": {
     "end_time": "2025-01-30T09:39:22.643337Z",
     "start_time": "2025-01-30T09:39:22.375313Z"
    }
   },
   "cell_type": "code",
   "source": [
    "clf = SVC(kernel='linear')\n",
    "X_train, X_test, y_train, y_test = train_test_split(X, y_tree_types, test_size=0.2, random_state=42)\n",
    "clf = clf.fit(X_train, y_train)\n",
    "y_pred = clf.predict(X_test)\n",
    "accuracy = accuracy_score(y_test, y_pred)\n",
    "print(f\"Accuracy: {accuracy:.4f}\")"
   ],
   "id": "a1c5acedd62645ed",
   "outputs": [
    {
     "name": "stdout",
     "output_type": "stream",
     "text": [
      "Accuracy: 0.6954\n"
     ]
    }
   ],
   "execution_count": 43
  },
  {
   "metadata": {},
   "cell_type": "markdown",
   "source": "Predict fractional cover measurements at individual locations using MLP.",
   "id": "12e31023874e3529"
  },
  {
   "metadata": {
    "ExecuteTime": {
     "end_time": "2025-01-28T14:55:26.510067Z",
     "start_time": "2025-01-28T14:55:22.505807Z"
    }
   },
   "cell_type": "code",
   "source": [
    "mlp = MLPRegressor(hidden_layer_sizes=(100,), activation=\"tanh\", solver=\"adam\", batch_size=256, learning_rate=\"constant\", learning_rate_init=0.001, max_iter=10000)\n",
    "\n",
    "X_train, X_test, y_train, y_test = train_test_split(X, y_intermediate_points, test_size=0.1)\n",
    "\n",
    "mlp.fit(X_train, y_train)\n",
    "targets = mlp.predict(X_test)\n",
    "\n",
    "print(f\"Errors: {np.abs(np.round(targets - y_test, decimals=1))}\")\n",
    "print(f\"MSE loss: {mean_squared_error(y_test, targets)}\")\n",
    "print(f\"MAE loss: {mean_absolute_error(y_test, targets)}\")"
   ],
   "id": "ad1d303dbe0a9c52",
   "outputs": [
    {
     "name": "stdout",
     "output_type": "stream",
     "text": [
      "Errors: [[10.1 10.   0.1  4.4  3. ]\n",
      " [11.7  4.1  0.8  1.1 12.1]\n",
      " [15.5 19.4  0.4  7.2  1.1]\n",
      " [ 9.1  8.   0.1 15.   1.9]\n",
      " [49.2 23.6  0.8  7.7  1.7]\n",
      " [ 0.1  1.1  0.4  0.7  3.1]\n",
      " [ 1.9  5.7  0.1 10.2  0. ]\n",
      " [35.4 21.7  0.4 12.   0.7]\n",
      " [ 6.8  1.   0.3  2.7 13.4]\n",
      " [ 4.5  6.9  1.  18.9  5.8]\n",
      " [69.   5.   1.1 50.7  9.1]\n",
      " [14.  18.1  0.2 27.7  1.8]\n",
      " [17.3 15.7  0.3 32.2  4.5]\n",
      " [11.8  4.3  1.  13.4  3.7]\n",
      " [17.3  2.5  0.2 15.3  5.2]\n",
      " [ 9.6  3.3  0.8 25.7 16.1]\n",
      " [20.4 17.6  0.1 33.6  1.7]\n",
      " [12.6  0.9  0.4  9.6 26.7]\n",
      " [ 1.9  3.5  0.7  9.2  3. ]\n",
      " [14.1  4.1  0.2 21.9  6.2]\n",
      " [14.4  4.2  0.2  9.   1.3]\n",
      " [ 5.2  2.3  0.2  3.4  1.4]\n",
      " [ 8.8  8.6  0.3  1.2  1.9]\n",
      " [14.2  2.5  0.3  2.3 17.2]\n",
      " [ 4.1 36.7  0.3 25.9  1.8]\n",
      " [17.7  4.5  1.   6.7  0.1]\n",
      " [ 3.4 10.3  0.7 15.2  2.4]\n",
      " [22.3  1.4  0.2 18.5  9. ]\n",
      " [10.7  4.4  0.5 13.7  2.2]\n",
      " [16.9 20.4  0.4  6.9  2.2]\n",
      " [16.   9.6  0.1 11.7  1. ]\n",
      " [ 5.4  7.1  0.1 17.8  1.5]\n",
      " [31.9 37.7  0.8  8.4  1.4]\n",
      " [14.8  6.3  0.  19.9  1.2]\n",
      " [12.2  2.8  0.7 12.   0.8]\n",
      " [25.8  5.7  0.2 21.4  1.4]\n",
      " [ 0.2  6.5  0.1 14.   1.2]\n",
      " [25.9 11.4  0.1 13.6  3.7]\n",
      " [14.5 21.7  0.7 14.4  2.2]\n",
      " [27.2 11.1  0.2  5.   6. ]\n",
      " [22.6 12.6  0.3 11.5  1.4]\n",
      " [19.1 12.5  0.8  3.6  0.9]\n",
      " [19.1  6.6  0.4  7.8  6.3]\n",
      " [ 1.  13.2  1.7 18.2  1.6]\n",
      " [ 8.1 11.6  1.5  9.3  0.5]\n",
      " [11.8  3.4  0.3  7.1  0.6]\n",
      " [ 2.5  2.9  0.5  9.4  3.6]\n",
      " [ 8.8  5.2  0.5  2.4  1.8]\n",
      " [ 6.   7.1  0.3  6.7  0.2]\n",
      " [17.9  0.   0.4 15.2  2.7]\n",
      " [ 8.   1.9  0.   8.2  1.4]\n",
      " [38.4 15.2  0.  22.6  1. ]\n",
      " [ 4.5  4.9  0.  14.5  1.3]\n",
      " [ 7.5 14.6  0.7  8.7  0.6]\n",
      " [15.   7.3  0.3 14.2  0.6]\n",
      " [18.1  0.9  0.2 16.7  1.1]\n",
      " [32.7  8.3  0.6 22.2  2. ]\n",
      " [ 1.1  1.2  0.2  5.   2.2]\n",
      " [20.3  3.6  0.1 21.   2.1]\n",
      " [25.4 25.9  0.6 25.3  1.3]\n",
      " [10.9 13.   0.1  5.7  1.3]\n",
      " [26.4  1.3  1.3 24.4  2. ]\n",
      " [ 7.9  0.2  0.  12.3  1.2]\n",
      " [15.4 12.4  0.1 21.5  1.2]\n",
      " [ 5.2  0.4  0.   2.   0.7]\n",
      " [16.   6.8  0.1 34.3  9.7]\n",
      " [ 9.   2.4  1.7 32.9 30.3]\n",
      " [ 7.8 11.   1.2 20.1  0.9]\n",
      " [15.8 13.   0.   2.   2.4]\n",
      " [14.6  5.5  0.8 12.4  1.3]\n",
      " [16.4  8.   0.1 24.   3.6]\n",
      " [13.6  0.9  0.2 11.5  0. ]\n",
      " [33.  36.2  0.6  8.9  1.1]\n",
      " [ 1.8  9.6  0.2  9.   0.7]\n",
      " [ 4.1  5.4  0.1 12.5  5.7]\n",
      " [ 9.7  5.4  0.2  7.8  2.9]\n",
      " [ 0.6 10.2  1.   9.3  1.9]\n",
      " [30.1 32.   0.5 13.6  1.2]\n",
      " [26.2 15.2  0.1 12.4  1.7]\n",
      " [12.5 11.1  2.3 11.  10.9]\n",
      " [ 3.   1.   0.2  1.9  9.9]\n",
      " [ 4.4  5.5  0.3  4.7  6.9]\n",
      " [51.6 23.7  1.5 31.   0.3]\n",
      " [29.1  3.7  0.  23.2  0.2]\n",
      " [15.3  1.2  0.  14.   0.6]\n",
      " [ 1.   1.3  0.4  9.3 12.7]\n",
      " [ 0.5  1.4  0.3  2.7  2.9]]\n",
      "MSE loss: 166.66533961037618\n",
      "MAE loss: 8.3527654476544\n"
     ]
    }
   ],
   "execution_count": 66
  },
  {
   "metadata": {},
   "cell_type": "markdown",
   "source": "Predict plots using MLP.",
   "id": "baaf3430fd19f9b8"
  },
  {
   "metadata": {
    "ExecuteTime": {
     "end_time": "2025-01-28T15:06:38.534512Z",
     "start_time": "2025-01-28T15:06:28.993226Z"
    }
   },
   "cell_type": "code",
   "source": [
    "mlp = MLPClassifier(hidden_layer_sizes=(100,), activation=\"tanh\", solver=\"adam\", batch_size=256, learning_rate=\"constant\", learning_rate_init=0.001, max_iter=10000)\n",
    "\n",
    "X_train, X_test, y_train, y_test = train_test_split(X, y_plot_ids, test_size=0.1)\n",
    "\n",
    "mlp.fit(X_train, y_train)\n",
    "targets = mlp.predict(X_test)\n",
    "\n",
    "print(f\"Accuracy of predictions: {accuracy_score(y_test, targets)}\")"
   ],
   "id": "a1a6769ba474c2b9",
   "outputs": [
    {
     "name": "stdout",
     "output_type": "stream",
     "text": [
      "Accuracy of predictions: 0.5632183908045977\n"
     ]
    }
   ],
   "execution_count": 97
  },
  {
   "metadata": {},
   "cell_type": "markdown",
   "source": "Predict tree types using MLP.",
   "id": "e982b99d091216be"
  },
  {
   "metadata": {
    "ExecuteTime": {
     "end_time": "2025-01-28T15:08:42.884061Z",
     "start_time": "2025-01-28T15:08:37.537571Z"
    }
   },
   "cell_type": "code",
   "source": [
    "mlp = MLPClassifier(hidden_layer_sizes=(100,), activation=\"tanh\", solver=\"adam\", batch_size=256, learning_rate=\"constant\", learning_rate_init=0.001, max_iter=10000)\n",
    "\n",
    "X_train, X_test, y_train, y_test = train_test_split(X, y_tree_types, test_size=0.1)\n",
    "\n",
    "mlp.fit(X_train, y_train)\n",
    "targets = mlp.predict(X_test)\n",
    "\n",
    "print(f\"Accuracy of predictions: {accuracy_score(y_test, targets)}\")\n"
   ],
   "id": "3b9a86baad4886d6",
   "outputs": [
    {
     "name": "stdout",
     "output_type": "stream",
     "text": [
      "Accuracy of predictions: 0.6206896551724138\n"
     ]
    }
   ],
   "execution_count": 104
  }
 ],
 "metadata": {
  "kernelspec": {
   "display_name": "Python 3",
   "language": "python",
   "name": "python3"
  },
  "language_info": {
   "codemirror_mode": {
    "name": "ipython",
    "version": 2
   },
   "file_extension": ".py",
   "mimetype": "text/x-python",
   "name": "python",
   "nbconvert_exporter": "python",
   "pygments_lexer": "ipython2",
   "version": "2.7.6"
  }
 },
 "nbformat": 4,
 "nbformat_minor": 5
}
