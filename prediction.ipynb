{
 "cells": [
  {
   "cell_type": "code",
   "id": "initial_id",
   "metadata": {
    "collapsed": true,
    "ExecuteTime": {
     "end_time": "2025-01-30T10:57:45.639062Z",
     "start_time": "2025-01-30T10:57:45.632964Z"
    }
   },
   "source": [
    "import numpy as np\n",
    "import pandas as pd\n",
    "from sklearn.svm import SVC\n",
    "from sklearn.model_selection import train_test_split\n",
    "from sklearn.neural_network import MLPClassifier, MLPRegressor\n",
    "from sklearn.metrics import mean_squared_error, mean_absolute_error, accuracy_score"
   ],
   "outputs": [],
   "execution_count": 124
  },
  {
   "metadata": {},
   "cell_type": "markdown",
   "source": "Sklearn train and test loaders",
   "id": "250b66f22f4bda6"
  },
  {
   "metadata": {
    "ExecuteTime": {
     "end_time": "2025-01-30T10:57:45.749048Z",
     "start_time": "2025-01-30T10:57:45.684242Z"
    }
   },
   "cell_type": "code",
   "source": [
    "fractional_cover = pd.read_csv(\"datasets/fractional_cover.csv\")\n",
    "fractional_cover[\"tree_type\"] = fractional_cover[\"plot_ID\"].apply(lambda x: ''.join([char for char in x.split(\"_\")[1] if char.isalpha()]))\n",
    "\n",
    "X = pd.read_csv(\"datasets/1000_wavelength_10features_pca.csv\").to_numpy()\n",
    "y_intermediate_points = pd.read_csv(\"datasets/complete_fc.csv\")\n",
    "y_intermediate_points = y_intermediate_points[[\"vasc\", \"nonvasc\", \"lichen\", \"intactlitt\", \"decomplitt\"]].to_numpy() * 100\n",
    "y_plot_ids = fractional_cover[\"plot_ID\"].to_numpy().repeat(15)\n",
    "y_plot_ids = np.delete(y_plot_ids, np.where(y_plot_ids == \"HY_PINE5\")[0][0])\n",
    "y_tree_types = fractional_cover[\"tree_type\"].to_numpy().repeat(15)\n",
    "y_tree_types = np.delete(y_tree_types, np.where(y_tree_types == \"PINE\")[0][0])"
   ],
   "id": "c61faad172da2d13",
   "outputs": [],
   "execution_count": 125
  },
  {
   "metadata": {},
   "cell_type": "markdown",
   "source": "Predict using SVM.",
   "id": "a44f99e43be8570f"
  },
  {
   "metadata": {
    "ExecuteTime": {
     "end_time": "2025-01-30T10:57:45.901840Z",
     "start_time": "2025-01-30T10:57:45.755100Z"
    }
   },
   "cell_type": "code",
   "source": [
    "# SVM code here\n",
    "clf = SVC(kernel='linear')\n",
    "X_train, X_test, y_train, y_test = train_test_split(X, y_plot_ids, test_size=0.2, random_state=42)\n",
    "clf = clf.fit(X_train, y_train)\n",
    "y_pred = clf.predict(X_test)\n",
    "accuracy = accuracy_score(y_test, y_pred)\n",
    "print(f\"Accuracy: {accuracy:.4f}\")"
   ],
   "id": "4b2fe5adf5884cfb",
   "outputs": [
    {
     "name": "stdout",
     "output_type": "stream",
     "text": [
      "Accuracy: 0.6149\n"
     ]
    }
   ],
   "execution_count": 126
  },
  {
   "metadata": {
    "ExecuteTime": {
     "end_time": "2025-01-30T10:57:46.461167Z",
     "start_time": "2025-01-30T10:57:45.923124Z"
    }
   },
   "cell_type": "code",
   "source": [
    "clf = SVC(kernel='linear')\n",
    "X_train, X_test, y_train, y_test = train_test_split(X, y_tree_types, test_size=0.2, random_state=42)\n",
    "clf = clf.fit(X_train, y_train)\n",
    "y_pred = clf.predict(X_test)\n",
    "accuracy = accuracy_score(y_test, y_pred)\n",
    "print(f\"Accuracy: {accuracy:.4f}\")"
   ],
   "id": "a1c5acedd62645ed",
   "outputs": [
    {
     "name": "stdout",
     "output_type": "stream",
     "text": [
      "Accuracy: 0.6954\n"
     ]
    }
   ],
   "execution_count": 127
  },
  {
   "metadata": {},
   "cell_type": "markdown",
   "source": "Predict fractional cover measurements at individual locations using MLP.",
   "id": "12e31023874e3529"
  },
  {
   "metadata": {
    "ExecuteTime": {
     "end_time": "2025-01-30T10:57:51.663378Z",
     "start_time": "2025-01-30T10:57:46.486897Z"
    }
   },
   "cell_type": "code",
   "source": [
    "mlp = MLPRegressor(hidden_layer_sizes=(100,), activation=\"tanh\", solver=\"adam\", batch_size=256, learning_rate=\"constant\", learning_rate_init=0.001, max_iter=10000)\n",
    "\n",
    "X_train, X_test, y_train, y_test = train_test_split(X, y_intermediate_points, test_size=0.1)\n",
    "\n",
    "mlp.fit(X_train, y_train)\n",
    "targets = mlp.predict(X_test)\n",
    "\n",
    "print(f\"Errors: {np.abs(np.round(targets - y_test, decimals=1))}\")\n",
    "print(f\"MSE loss: {mean_squared_error(y_test, targets)}\")\n",
    "print(f\"MAE loss: {mean_absolute_error(y_test, targets)}\")"
   ],
   "id": "ad1d303dbe0a9c52",
   "outputs": [
    {
     "name": "stdout",
     "output_type": "stream",
     "text": [
      "Errors: [[10.6 13.4  2.2 16.1  1.5]\n",
      " [25.4 28.8  0.5  3.7  5. ]\n",
      " [18.2 24.5  0.   1.8  0. ]\n",
      " [13.8  3.2  0.4  0.2  5.7]\n",
      " [ 0.8  3.9  0.5  0.6  0.1]\n",
      " [21.5 14.4  0.1  1.8  0.3]\n",
      " [14.1  3.3  0.1  7.7  2.7]\n",
      " [ 3.5  0.2  0.1  6.9  1.2]\n",
      " [ 5.7 12.3  0.6 12.1  0.7]\n",
      " [11.6 13.8  0.8  3.   0.5]\n",
      " [33.8 14.5  0.1 13.   0.9]\n",
      " [ 3.5  0.5  0.4  4.1  1. ]\n",
      " [18.7 15.1  0.1  0.8  0.8]\n",
      " [10.7 10.7  0.2  4.2  7.6]\n",
      " [ 3.1 10.9  0.2 11.2  0.8]\n",
      " [ 6.7  0.8  0.2 10.6 21. ]\n",
      " [ 7.8  6.7  0.9 22.3  7.3]\n",
      " [31.5 15.1  0.2 13.2  1.2]\n",
      " [19.   1.1  0.8 28.   9.4]\n",
      " [ 6.1  4.6  0.3 11.2  1.4]\n",
      " [24.4  6.8  0.1 28.6  0.8]\n",
      " [ 0.1  0.7  0.3  6.5  1.3]\n",
      " [ 3.1  0.2  0.2  5.5  1.7]\n",
      " [ 9.3  7.   0.1  3.4  0.2]\n",
      " [26.8 22.1  0.2  9.7  0.1]\n",
      " [32.8 37.7  2.   8.7  3.2]\n",
      " [12.1  9.4  0.4  1.8  0.9]\n",
      " [10.1  0.4  0.4  4.1  0.1]\n",
      " [ 6.3  1.1  0.1  1.7  8.4]\n",
      " [29.5 13.4  0.5  7.3  0.3]\n",
      " [ 0.1  7.6  0.3  3.4  1.4]\n",
      " [12.5  3.   0.2  5.  20.1]\n",
      " [13.9 14.2  0.5  6.5  0.7]\n",
      " [57.2  9.1  0.  60.9  0.3]\n",
      " [ 5.6  7.2  0.2  4.2  2. ]\n",
      " [17.7  0.8  0.3 17.6  2.4]\n",
      " [ 7.1  3.6  0.2  5.8 18.8]\n",
      " [19.5  2.8  1.   5.5 18.1]\n",
      " [ 1.6 16.6  0.3 11.4  2.8]\n",
      " [ 0.7  8.3  0.1  9.1  2. ]\n",
      " [11.6 15.3  0.4  2.6  0.4]\n",
      " [ 9.9 30.7  0.3 16.1  3.6]\n",
      " [12.1  1.3  0.3 13.6  1.6]\n",
      " [25.   9.8  0.3 15.   1.1]\n",
      " [ 3.7  8.8  0.6 10.3  2.6]\n",
      " [14.   0.6  0.3 12.1  2.9]\n",
      " [15.8  7.2  0.  11.4 10.7]\n",
      " [ 9.6 20.9  0.6  2.2  2.5]\n",
      " [28.1 18.4  0.1 16.7  0.1]\n",
      " [20.4  7.3  1.  10.1  5.9]\n",
      " [ 8.5  0.1  0.4 16.   1.4]\n",
      " [ 2.5  0.6  0.5  8.2  4.5]\n",
      " [13.7  2.4  0.2 19.4  3.7]\n",
      " [14.4  7.   0.2  9.4  0.9]\n",
      " [ 2.8 18.1  0.5 22.6  1.2]\n",
      " [ 0.3  4.7  0.2  0.4  0.1]\n",
      " [22.8  4.1  0.3  8.4  5.3]\n",
      " [ 8.8  3.6  0.7  7.1 21.8]\n",
      " [17.2  4.8  0.4 19.1  2.1]\n",
      " [19.7  2.9  0.1  7.3  8.5]\n",
      " [ 7.4  3.5  0.1  5.7  4.8]\n",
      " [ 9.1  2.5  0.1  0.9  0.3]\n",
      " [10.2  0.4  0.1  9.7  6.3]\n",
      " [12.4  0.1  0.2 14.2  2.6]\n",
      " [25.3  5.1  0.5  4.7  8.6]\n",
      " [ 5.4  0.7  0.9 18.3 30.4]\n",
      " [26.5 16.4  0.2  8.5  0.8]\n",
      " [21.6  0.5  0.7 15.5  0.9]\n",
      " [18.2 15.8  0.9  2.1  2. ]\n",
      " [23.3  2.4  0.1 21.5  2.2]\n",
      " [10.  12.5  0.4  9.4  2.8]\n",
      " [ 6.3  9.6  0.1 13.4  0.3]\n",
      " [25.  19.4  0.7  2.8  1. ]\n",
      " [13.4  0.   0.   4.3  2.8]\n",
      " [27.5 11.1  0.5 18.6  1.9]\n",
      " [ 7.1  9.6  0.9 13.2  3.3]\n",
      " [14.   7.   0.   6.7  0.4]\n",
      " [ 7.1  1.   0.5  7.7  0.1]\n",
      " [ 2.5  2.6  0.1  0.1  1.3]\n",
      " [19.3  5.6  1.8 18.4  0.1]\n",
      " [16.1 19.6  0.4  6.2  3.8]\n",
      " [26.9  5.4  0.8 21.8  2.7]\n",
      " [18.9  1.   0.4 10.5  2.1]\n",
      " [ 5.2  1.6  0.9 18.  28.7]\n",
      " [ 6.4  2.7  0.1 10.5 19.3]\n",
      " [ 7.7  9.5  0.   3.3  1.3]\n",
      " [ 5.2  6.   0.3  9.7  1. ]]\n",
      "MSE loss: 128.9629778893264\n",
      "MAE loss: 7.334476322695307\n"
     ]
    }
   ],
   "execution_count": 128
  },
  {
   "metadata": {},
   "cell_type": "markdown",
   "source": "Predict plots using MLP.",
   "id": "baaf3430fd19f9b8"
  },
  {
   "metadata": {
    "ExecuteTime": {
     "end_time": "2025-01-30T10:58:03.550729Z",
     "start_time": "2025-01-30T10:57:51.699177Z"
    }
   },
   "cell_type": "code",
   "source": [
    "mlp = MLPClassifier(hidden_layer_sizes=(100,), activation=\"tanh\", solver=\"adam\", batch_size=256, learning_rate=\"constant\", learning_rate_init=0.001, max_iter=10000)\n",
    "\n",
    "X_train, X_test, y_train, y_test = train_test_split(X, y_plot_ids, test_size=0.1)\n",
    "\n",
    "mlp.fit(X_train, y_train)\n",
    "targets = mlp.predict(X_test)\n",
    "\n",
    "print(f\"Accuracy of predictions: {accuracy_score(y_test, targets)}\")"
   ],
   "id": "a1a6769ba474c2b9",
   "outputs": [
    {
     "name": "stdout",
     "output_type": "stream",
     "text": [
      "Accuracy of predictions: 0.6551724137931034\n"
     ]
    }
   ],
   "execution_count": 129
  },
  {
   "metadata": {},
   "cell_type": "markdown",
   "source": "Predict tree types using MLP.",
   "id": "e982b99d091216be"
  },
  {
   "metadata": {
    "ExecuteTime": {
     "end_time": "2025-01-30T10:58:11.996690Z",
     "start_time": "2025-01-30T10:58:03.578898Z"
    }
   },
   "cell_type": "code",
   "source": [
    "mlp = MLPClassifier(hidden_layer_sizes=(100,), activation=\"tanh\", solver=\"adam\", batch_size=256, learning_rate=\"constant\", learning_rate_init=0.001, max_iter=10000)\n",
    "\n",
    "X_train, X_test, y_train, y_test = train_test_split(X, y_tree_types, test_size=0.1)\n",
    "\n",
    "mlp.fit(X_train, y_train)\n",
    "targets = mlp.predict(X_test)\n",
    "\n",
    "print(f\"Accuracy of predictions: {accuracy_score(y_test, targets)}\")\n"
   ],
   "id": "3b9a86baad4886d6",
   "outputs": [
    {
     "name": "stdout",
     "output_type": "stream",
     "text": [
      "Accuracy of predictions: 0.8275862068965517\n"
     ]
    }
   ],
   "execution_count": 130
  }
 ],
 "metadata": {
  "kernelspec": {
   "display_name": "Python 3",
   "language": "python",
   "name": "python3"
  },
  "language_info": {
   "codemirror_mode": {
    "name": "ipython",
    "version": 2
   },
   "file_extension": ".py",
   "mimetype": "text/x-python",
   "name": "python",
   "nbconvert_exporter": "python",
   "pygments_lexer": "ipython2",
   "version": "2.7.6"
  }
 },
 "nbformat": 4,
 "nbformat_minor": 5
}
