{
 "cells": [
  {
   "cell_type": "code",
   "id": "initial_id",
   "metadata": {
    "collapsed": true,
    "ExecuteTime": {
     "end_time": "2025-01-26T14:22:27.551450Z",
     "start_time": "2025-01-26T14:22:25.375965Z"
    }
   },
   "source": "import pandas as pd",
   "outputs": [],
   "execution_count": 1
  },
  {
   "metadata": {
    "ExecuteTime": {
     "end_time": "2025-01-26T14:22:27.891154Z",
     "start_time": "2025-01-26T14:22:27.551450Z"
    }
   },
   "cell_type": "code",
   "source": [
    "fractional_cover = pd.read_csv(\"datasets/fractional_cover.csv\")\n",
    "spectra_forest_floor = pd.read_csv(\"datasets/spectra_forest_floor.csv\")\n",
    "complete_fc = pd.DataFrame(columns=[\"plot_ID\", \"location\", \"vasc\", \"nonvasc\", \"lichen\", \"intactlitt\", \"decomplitt\"])"
   ],
   "id": "e948893fc3e82fc5",
   "outputs": [],
   "execution_count": 2
  },
  {
   "metadata": {
    "ExecuteTime": {
     "end_time": "2025-01-26T14:22:28.342030Z",
     "start_time": "2025-01-26T14:22:28.336805Z"
    }
   },
   "cell_type": "code",
   "source": [
    "def infer_value_linearly(x: int, x1: int, x2: int, v1: float, v2: float) -> float:\n",
    "    a = (v2 - v1) / (x2 - x1)\n",
    "    b = (x2 * v1 - x1 * v2) / (x2 - x1)\n",
    "\n",
    "    return a * x + b"
   ],
   "id": "18aaf823f07db86c",
   "outputs": [],
   "execution_count": 3
  },
  {
   "metadata": {},
   "cell_type": "markdown",
   "source": "Generate missing fractional cover samples linearly from the values of the two closest locations from the set {1, 5, 9, 13}. For locations 14 and 15, the values from location 13 are used directly.",
   "id": "67167a30decc02e3"
  },
  {
   "metadata": {
    "ExecuteTime": {
     "end_time": "2025-01-26T14:22:29.047827Z",
     "start_time": "2025-01-26T14:22:28.359122Z"
    }
   },
   "cell_type": "code",
   "source": [
    "for i, sample in fractional_cover.iterrows():\n",
    "    for loc in range(1, 16):\n",
    "        if sample['plot_ID'] != 'HY_PINE5' or loc != 15:\n",
    "            if loc > 13:\n",
    "                complete_fc.loc[len(complete_fc)] = {\n",
    "                    \"plot_ID\": sample[\"plot_ID\"],\n",
    "                    \"location\": loc,\n",
    "                    \"vasc\": sample[\"vasc_q4\"],\n",
    "                    \"nonvasc\": sample[\"nonvasc_q4\"],\n",
    "                    \"lichen\": sample[\"lichen_q4\"],\n",
    "                    \"intactlitt\": sample[\"intactlitt_q4\"],\n",
    "                    \"decomplitt\": sample[\"decomplitt_q4\"]\n",
    "                }\n",
    "            else:\n",
    "                if loc <= 5:\n",
    "                    point1 = 1\n",
    "                    point2 = 2\n",
    "                    loc1 = 1\n",
    "                    loc2 = 5\n",
    "\n",
    "                elif loc <= 9:\n",
    "                    point1 = 2\n",
    "                    point2 = 3\n",
    "                    loc1 = 5\n",
    "                    loc2 = 9\n",
    "\n",
    "                elif loc <= 13:\n",
    "                    point1 = 3\n",
    "                    point2 = 4\n",
    "                    loc1 = 9\n",
    "                    loc2 = 13\n",
    "\n",
    "                complete_fc.loc[len(complete_fc)] = {\n",
    "                    \"plot_ID\": sample[\"plot_ID\"],\n",
    "                    \"location\": loc,\n",
    "                    \"vasc\": infer_value_linearly(loc, loc1, loc2, sample[f\"vasc_q{point1}\"], sample[f\"vasc_q{point2}\"]),\n",
    "                    \"nonvasc\": infer_value_linearly(loc, loc1, loc2, sample[f\"nonvasc_q{point1}\"], sample[f\"nonvasc_q{point2}\"]),\n",
    "                    \"lichen\": infer_value_linearly(loc, loc1, loc2, sample[f\"lichen_q{point1}\"], sample[f\"lichen_q{point2}\"]),\n",
    "                    \"intactlitt\": infer_value_linearly(loc, loc1, loc2, sample[f\"intactlitt_q{point1}\"], sample[f\"intactlitt_q{point2}\"]),\n",
    "                    \"decomplitt\": infer_value_linearly(loc, loc1, loc2, sample[f\"decomplitt_q{point1}\"], sample[f\"decomplitt_q{point2}\"]),\n",
    "                }"
   ],
   "id": "1c493b15cd1c4735",
   "outputs": [],
   "execution_count": 4
  },
  {
   "metadata": {
    "ExecuteTime": {
     "end_time": "2025-01-26T14:22:29.094966Z",
     "start_time": "2025-01-26T14:22:29.069190Z"
    }
   },
   "cell_type": "code",
   "source": "complete_fc",
   "id": "65f07a6e04eb4829",
   "outputs": [
    {
     "data": {
      "text/plain": [
       "       plot_ID  location   vasc  nonvasc  lichen  intactlitt  decomplitt\n",
       "0    HY_BIRCH1         1  0.410     0.04     0.0       0.550         0.0\n",
       "1    HY_BIRCH1         2  0.475     0.03     0.0       0.495         0.0\n",
       "2    HY_BIRCH1         3  0.540     0.02     0.0       0.440         0.0\n",
       "3    HY_BIRCH1         4  0.605     0.01     0.0       0.385         0.0\n",
       "4    HY_BIRCH1         5  0.670     0.00     0.0       0.330         0.0\n",
       "..         ...       ...    ...      ...     ...         ...         ...\n",
       "864    LZ_OAK4        11  0.420     0.00     0.0       0.580         0.0\n",
       "865    LZ_OAK4        12  0.530     0.00     0.0       0.470         0.0\n",
       "866    LZ_OAK4        13  0.640     0.00     0.0       0.360         0.0\n",
       "867    LZ_OAK4        14  0.640     0.00     0.0       0.360         0.0\n",
       "868    LZ_OAK4        15  0.640     0.00     0.0       0.360         0.0\n",
       "\n",
       "[869 rows x 7 columns]"
      ],
      "text/html": [
       "<div>\n",
       "<style scoped>\n",
       "    .dataframe tbody tr th:only-of-type {\n",
       "        vertical-align: middle;\n",
       "    }\n",
       "\n",
       "    .dataframe tbody tr th {\n",
       "        vertical-align: top;\n",
       "    }\n",
       "\n",
       "    .dataframe thead th {\n",
       "        text-align: right;\n",
       "    }\n",
       "</style>\n",
       "<table border=\"1\" class=\"dataframe\">\n",
       "  <thead>\n",
       "    <tr style=\"text-align: right;\">\n",
       "      <th></th>\n",
       "      <th>plot_ID</th>\n",
       "      <th>location</th>\n",
       "      <th>vasc</th>\n",
       "      <th>nonvasc</th>\n",
       "      <th>lichen</th>\n",
       "      <th>intactlitt</th>\n",
       "      <th>decomplitt</th>\n",
       "    </tr>\n",
       "  </thead>\n",
       "  <tbody>\n",
       "    <tr>\n",
       "      <th>0</th>\n",
       "      <td>HY_BIRCH1</td>\n",
       "      <td>1</td>\n",
       "      <td>0.410</td>\n",
       "      <td>0.04</td>\n",
       "      <td>0.0</td>\n",
       "      <td>0.550</td>\n",
       "      <td>0.0</td>\n",
       "    </tr>\n",
       "    <tr>\n",
       "      <th>1</th>\n",
       "      <td>HY_BIRCH1</td>\n",
       "      <td>2</td>\n",
       "      <td>0.475</td>\n",
       "      <td>0.03</td>\n",
       "      <td>0.0</td>\n",
       "      <td>0.495</td>\n",
       "      <td>0.0</td>\n",
       "    </tr>\n",
       "    <tr>\n",
       "      <th>2</th>\n",
       "      <td>HY_BIRCH1</td>\n",
       "      <td>3</td>\n",
       "      <td>0.540</td>\n",
       "      <td>0.02</td>\n",
       "      <td>0.0</td>\n",
       "      <td>0.440</td>\n",
       "      <td>0.0</td>\n",
       "    </tr>\n",
       "    <tr>\n",
       "      <th>3</th>\n",
       "      <td>HY_BIRCH1</td>\n",
       "      <td>4</td>\n",
       "      <td>0.605</td>\n",
       "      <td>0.01</td>\n",
       "      <td>0.0</td>\n",
       "      <td>0.385</td>\n",
       "      <td>0.0</td>\n",
       "    </tr>\n",
       "    <tr>\n",
       "      <th>4</th>\n",
       "      <td>HY_BIRCH1</td>\n",
       "      <td>5</td>\n",
       "      <td>0.670</td>\n",
       "      <td>0.00</td>\n",
       "      <td>0.0</td>\n",
       "      <td>0.330</td>\n",
       "      <td>0.0</td>\n",
       "    </tr>\n",
       "    <tr>\n",
       "      <th>...</th>\n",
       "      <td>...</td>\n",
       "      <td>...</td>\n",
       "      <td>...</td>\n",
       "      <td>...</td>\n",
       "      <td>...</td>\n",
       "      <td>...</td>\n",
       "      <td>...</td>\n",
       "    </tr>\n",
       "    <tr>\n",
       "      <th>864</th>\n",
       "      <td>LZ_OAK4</td>\n",
       "      <td>11</td>\n",
       "      <td>0.420</td>\n",
       "      <td>0.00</td>\n",
       "      <td>0.0</td>\n",
       "      <td>0.580</td>\n",
       "      <td>0.0</td>\n",
       "    </tr>\n",
       "    <tr>\n",
       "      <th>865</th>\n",
       "      <td>LZ_OAK4</td>\n",
       "      <td>12</td>\n",
       "      <td>0.530</td>\n",
       "      <td>0.00</td>\n",
       "      <td>0.0</td>\n",
       "      <td>0.470</td>\n",
       "      <td>0.0</td>\n",
       "    </tr>\n",
       "    <tr>\n",
       "      <th>866</th>\n",
       "      <td>LZ_OAK4</td>\n",
       "      <td>13</td>\n",
       "      <td>0.640</td>\n",
       "      <td>0.00</td>\n",
       "      <td>0.0</td>\n",
       "      <td>0.360</td>\n",
       "      <td>0.0</td>\n",
       "    </tr>\n",
       "    <tr>\n",
       "      <th>867</th>\n",
       "      <td>LZ_OAK4</td>\n",
       "      <td>14</td>\n",
       "      <td>0.640</td>\n",
       "      <td>0.00</td>\n",
       "      <td>0.0</td>\n",
       "      <td>0.360</td>\n",
       "      <td>0.0</td>\n",
       "    </tr>\n",
       "    <tr>\n",
       "      <th>868</th>\n",
       "      <td>LZ_OAK4</td>\n",
       "      <td>15</td>\n",
       "      <td>0.640</td>\n",
       "      <td>0.00</td>\n",
       "      <td>0.0</td>\n",
       "      <td>0.360</td>\n",
       "      <td>0.0</td>\n",
       "    </tr>\n",
       "  </tbody>\n",
       "</table>\n",
       "<p>869 rows × 7 columns</p>\n",
       "</div>"
      ]
     },
     "execution_count": 5,
     "metadata": {},
     "output_type": "execute_result"
    }
   ],
   "execution_count": 5
  },
  {
   "metadata": {
    "ExecuteTime": {
     "end_time": "2025-01-26T14:22:29.247773Z",
     "start_time": "2025-01-26T14:22:29.232047Z"
    }
   },
   "cell_type": "code",
   "source": "complete_fc.to_csv(\"datasets/complete_fc.csv\", sep=\",\", index=False)",
   "id": "2c0a484e5cd767f6",
   "outputs": [],
   "execution_count": 6
  }
 ],
 "metadata": {
  "kernelspec": {
   "display_name": "Python 3",
   "language": "python",
   "name": "python3"
  },
  "language_info": {
   "codemirror_mode": {
    "name": "ipython",
    "version": 2
   },
   "file_extension": ".py",
   "mimetype": "text/x-python",
   "name": "python",
   "nbconvert_exporter": "python",
   "pygments_lexer": "ipython2",
   "version": "2.7.6"
  }
 },
 "nbformat": 4,
 "nbformat_minor": 5
}
